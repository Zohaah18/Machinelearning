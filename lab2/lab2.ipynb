{
 "cells": [
  {
   "cell_type": "code",
   "execution_count": 77,
   "id": "be2ff117",
   "metadata": {},
   "outputs": [
    {
     "name": "stdout",
     "output_type": "stream",
     "text": [
      "         fid                                        name  population  \\\n",
      "0       9001               NEW ENGLAND CHRISTIAN ACADEMY         136   \n",
      "1       9002                     SETON ACADEMY FOR GIRLS          57   \n",
      "2       9003                              ST ANNA SCHOOL         157   \n",
      "3       9004  SOUTHEAST ALTERNATIVE SCHOOL-MIDDLE SCHOOL           5   \n",
      "4       9005                             DEVEREUX SCHOOL         123   \n",
      "...      ...                                         ...         ...   \n",
      "26978  20996                         MOST PRECIOUS BLOOD          33   \n",
      "26979  20997                               STARR ACADEMY          29   \n",
      "26980  20998                   ST JOHN'S LUTHERAN SCHOOL          24   \n",
      "26981  20999                     FAITH CHRISTIAN ACADEMY          13   \n",
      "26982  21000                           SHADY PINE SCHOOL          17   \n",
      "\n",
      "          county   latitude  \n",
      "0        BRISTOL  41.758597  \n",
      "1        BRISTOL  41.718407  \n",
      "2      WORCESTER  42.517271  \n",
      "3       PLYMOUTH  41.818210  \n",
      "4      WORCESTER  42.383875  \n",
      "...          ...        ...  \n",
      "26978    WAUPACA  44.386281  \n",
      "26979    WAUPACA  44.308621  \n",
      "26980   WAUSHARA  44.202182  \n",
      "26981   WAUSHARA  44.074503  \n",
      "26982   WAUSHARA  44.014975  \n",
      "\n",
      "[26983 rows x 5 columns]\n"
     ]
    }
   ],
   "source": [
    "#Question 1:\n",
    "import pandas as pd\n",
    "df=pd.read_csv('Lab2 D1A.csv')\n",
    "df2=pd.read_csv('Lab2 D1B.csv')\n",
    "print(df)"
   ]
  },
  {
   "cell_type": "code",
   "execution_count": 78,
   "id": "e35f65b5",
   "metadata": {},
   "outputs": [
    {
     "name": "stdout",
     "output_type": "stream",
     "text": [
      "                                             name  population     county  \\\n",
      "0                   NEW ENGLAND CHRISTIAN ACADEMY         136    BRISTOL   \n",
      "1                         SETON ACADEMY FOR GIRLS          57    BRISTOL   \n",
      "2                                  ST ANNA SCHOOL         157  WORCESTER   \n",
      "3      SOUTHEAST ALTERNATIVE SCHOOL-MIDDLE SCHOOL           5   PLYMOUTH   \n",
      "4                                 DEVEREUX SCHOOL         123  WORCESTER   \n",
      "...                                           ...         ...        ...   \n",
      "26978                         MOST PRECIOUS BLOOD          33    WAUPACA   \n",
      "26979                               STARR ACADEMY          29    WAUPACA   \n",
      "26980                   ST JOHN'S LUTHERAN SCHOOL          24   WAUSHARA   \n",
      "26981                     FAITH CHRISTIAN ACADEMY          13   WAUSHARA   \n",
      "26982                           SHADY PINE SCHOOL          17   WAUSHARA   \n",
      "\n",
      "       longitude                              level  enrollment  \\\n",
      "0     -71.175801  Combined elementary and secondary         120   \n",
      "1     -71.147302                         Elementary          49   \n",
      "2     -71.751741                         Elementary         143   \n",
      "3     -71.083393                         Elementary           4   \n",
      "4     -71.968419  Combined elementary and secondary         107   \n",
      "...          ...                                ...         ...   \n",
      "26978 -88.739200                         Elementary          28   \n",
      "26979 -88.848294                          Secondary          21   \n",
      "26980 -88.886093                         Elementary          22   \n",
      "26981 -89.294984                         Elementary          11   \n",
      "26982 -89.377692                         Elementary          16   \n",
      "\n",
      "                                 level.1  \n",
      "0      Combined elementary and secondary  \n",
      "1                             Elementary  \n",
      "2                             Elementary  \n",
      "3                             Elementary  \n",
      "4      Combined elementary and secondary  \n",
      "...                                  ...  \n",
      "26978                         Elementary  \n",
      "26979                          Secondary  \n",
      "26980                         Elementary  \n",
      "26981                         Elementary  \n",
      "26982                         Elementary  \n",
      "\n",
      "[26983 rows x 7 columns]\n"
     ]
    }
   ],
   "source": [
    "print(df2)"
   ]
  },
  {
   "cell_type": "code",
   "execution_count": 79,
   "id": "9789f4fc",
   "metadata": {},
   "outputs": [
    {
     "name": "stdout",
     "output_type": "stream",
     "text": [
      "<class 'pandas.core.frame.DataFrame'>\n",
      "RangeIndex: 26983 entries, 0 to 26982\n",
      "Data columns (total 5 columns):\n",
      " #   Column      Non-Null Count  Dtype  \n",
      "---  ------      --------------  -----  \n",
      " 0   fid         26983 non-null  int64  \n",
      " 1   name        26983 non-null  object \n",
      " 2   population  26983 non-null  int64  \n",
      " 3   county      26983 non-null  object \n",
      " 4   latitude    26983 non-null  float64\n",
      "dtypes: float64(1), int64(2), object(2)\n",
      "memory usage: 1.0+ MB\n",
      "<class 'pandas.core.frame.DataFrame'>\n",
      "RangeIndex: 26983 entries, 0 to 26982\n",
      "Data columns (total 7 columns):\n",
      " #   Column      Non-Null Count  Dtype  \n",
      "---  ------      --------------  -----  \n",
      " 0   name        26983 non-null  object \n",
      " 1   population  26983 non-null  int64  \n",
      " 2   county      26983 non-null  object \n",
      " 3   longitude   26983 non-null  float64\n",
      " 4   level       26983 non-null  object \n",
      " 5   enrollment  26983 non-null  int64  \n",
      " 6   level.1     26983 non-null  object \n",
      "dtypes: float64(1), int64(2), object(4)\n",
      "memory usage: 1.4+ MB\n"
     ]
    },
    {
     "data": {
      "text/plain": [
       "False"
      ]
     },
     "execution_count": 79,
     "metadata": {},
     "output_type": "execute_result"
    }
   ],
   "source": [
    "df.info()\n",
    "df2.info()\n",
    "df['population'].is_unique"
   ]
  },
  {
   "cell_type": "code",
   "execution_count": 80,
   "id": "982e93da",
   "metadata": {},
   "outputs": [
    {
     "data": {
      "text/html": [
       "<div>\n",
       "<style scoped>\n",
       "    .dataframe tbody tr th:only-of-type {\n",
       "        vertical-align: middle;\n",
       "    }\n",
       "\n",
       "    .dataframe tbody tr th {\n",
       "        vertical-align: top;\n",
       "    }\n",
       "\n",
       "    .dataframe thead th {\n",
       "        text-align: right;\n",
       "    }\n",
       "</style>\n",
       "<table border=\"1\" class=\"dataframe\">\n",
       "  <thead>\n",
       "    <tr style=\"text-align: right;\">\n",
       "      <th></th>\n",
       "      <th>fid</th>\n",
       "      <th>population</th>\n",
       "      <th>latitude</th>\n",
       "    </tr>\n",
       "  </thead>\n",
       "  <tbody>\n",
       "    <tr>\n",
       "      <th>count</th>\n",
       "      <td>26983.000000</td>\n",
       "      <td>26983.000000</td>\n",
       "      <td>26983.000000</td>\n",
       "    </tr>\n",
       "    <tr>\n",
       "      <th>mean</th>\n",
       "      <td>13492.000000</td>\n",
       "      <td>162.137160</td>\n",
       "      <td>38.167602</td>\n",
       "    </tr>\n",
       "    <tr>\n",
       "      <th>std</th>\n",
       "      <td>7789.465493</td>\n",
       "      <td>229.262453</td>\n",
       "      <td>5.111644</td>\n",
       "    </tr>\n",
       "    <tr>\n",
       "      <th>min</th>\n",
       "      <td>1.000000</td>\n",
       "      <td>1.000000</td>\n",
       "      <td>19.490817</td>\n",
       "    </tr>\n",
       "    <tr>\n",
       "      <th>25%</th>\n",
       "      <td>6746.500000</td>\n",
       "      <td>25.000000</td>\n",
       "      <td>34.181219</td>\n",
       "    </tr>\n",
       "    <tr>\n",
       "      <th>50%</th>\n",
       "      <td>13492.000000</td>\n",
       "      <td>79.000000</td>\n",
       "      <td>39.598992</td>\n",
       "    </tr>\n",
       "    <tr>\n",
       "      <th>75%</th>\n",
       "      <td>20237.500000</td>\n",
       "      <td>211.000000</td>\n",
       "      <td>41.628397</td>\n",
       "    </tr>\n",
       "    <tr>\n",
       "      <th>max</th>\n",
       "      <td>26983.000000</td>\n",
       "      <td>6446.000000</td>\n",
       "      <td>66.902354</td>\n",
       "    </tr>\n",
       "  </tbody>\n",
       "</table>\n",
       "</div>"
      ],
      "text/plain": [
       "                fid    population      latitude\n",
       "count  26983.000000  26983.000000  26983.000000\n",
       "mean   13492.000000    162.137160     38.167602\n",
       "std     7789.465493    229.262453      5.111644\n",
       "min        1.000000      1.000000     19.490817\n",
       "25%     6746.500000     25.000000     34.181219\n",
       "50%    13492.000000     79.000000     39.598992\n",
       "75%    20237.500000    211.000000     41.628397\n",
       "max    26983.000000   6446.000000     66.902354"
      ]
     },
     "execution_count": 80,
     "metadata": {},
     "output_type": "execute_result"
    }
   ],
   "source": [
    "df.describe()\n"
   ]
  },
  {
   "cell_type": "code",
   "execution_count": 81,
   "id": "937fb5fc",
   "metadata": {},
   "outputs": [
    {
     "data": {
      "text/html": [
       "<div>\n",
       "<style scoped>\n",
       "    .dataframe tbody tr th:only-of-type {\n",
       "        vertical-align: middle;\n",
       "    }\n",
       "\n",
       "    .dataframe tbody tr th {\n",
       "        vertical-align: top;\n",
       "    }\n",
       "\n",
       "    .dataframe thead th {\n",
       "        text-align: right;\n",
       "    }\n",
       "</style>\n",
       "<table border=\"1\" class=\"dataframe\">\n",
       "  <thead>\n",
       "    <tr style=\"text-align: right;\">\n",
       "      <th></th>\n",
       "      <th>population</th>\n",
       "      <th>longitude</th>\n",
       "      <th>enrollment</th>\n",
       "    </tr>\n",
       "  </thead>\n",
       "  <tbody>\n",
       "    <tr>\n",
       "      <th>count</th>\n",
       "      <td>26983.000000</td>\n",
       "      <td>26983.000000</td>\n",
       "      <td>26983.000000</td>\n",
       "    </tr>\n",
       "    <tr>\n",
       "      <th>mean</th>\n",
       "      <td>162.137160</td>\n",
       "      <td>-90.511958</td>\n",
       "      <td>148.341363</td>\n",
       "    </tr>\n",
       "    <tr>\n",
       "      <th>std</th>\n",
       "      <td>229.262453</td>\n",
       "      <td>16.700713</td>\n",
       "      <td>212.502913</td>\n",
       "    </tr>\n",
       "    <tr>\n",
       "      <th>min</th>\n",
       "      <td>1.000000</td>\n",
       "      <td>-162.583813</td>\n",
       "      <td>1.000000</td>\n",
       "    </tr>\n",
       "    <tr>\n",
       "      <th>25%</th>\n",
       "      <td>25.000000</td>\n",
       "      <td>-97.063117</td>\n",
       "      <td>21.000000</td>\n",
       "    </tr>\n",
       "    <tr>\n",
       "      <th>50%</th>\n",
       "      <td>79.000000</td>\n",
       "      <td>-85.604077</td>\n",
       "      <td>70.000000</td>\n",
       "    </tr>\n",
       "    <tr>\n",
       "      <th>75%</th>\n",
       "      <td>211.000000</td>\n",
       "      <td>-77.137074</td>\n",
       "      <td>194.000000</td>\n",
       "    </tr>\n",
       "    <tr>\n",
       "      <th>max</th>\n",
       "      <td>6446.000000</td>\n",
       "      <td>-67.388740</td>\n",
       "      <td>5840.000000</td>\n",
       "    </tr>\n",
       "  </tbody>\n",
       "</table>\n",
       "</div>"
      ],
      "text/plain": [
       "         population     longitude    enrollment\n",
       "count  26983.000000  26983.000000  26983.000000\n",
       "mean     162.137160    -90.511958    148.341363\n",
       "std      229.262453     16.700713    212.502913\n",
       "min        1.000000   -162.583813      1.000000\n",
       "25%       25.000000    -97.063117     21.000000\n",
       "50%       79.000000    -85.604077     70.000000\n",
       "75%      211.000000    -77.137074    194.000000\n",
       "max     6446.000000    -67.388740   5840.000000"
      ]
     },
     "execution_count": 81,
     "metadata": {},
     "output_type": "execute_result"
    }
   ],
   "source": [
    "df2.describe()"
   ]
  },
  {
   "cell_type": "code",
   "execution_count": 82,
   "id": "2ca2c027",
   "metadata": {},
   "outputs": [
    {
     "name": "stdout",
     "output_type": "stream",
     "text": [
      "          0                                           1    2          3   \\\n",
      "0       9001               NEW ENGLAND CHRISTIAN ACADEMY  136    BRISTOL   \n",
      "1       9002                     SETON ACADEMY FOR GIRLS   57    BRISTOL   \n",
      "2       9003                              ST ANNA SCHOOL  157  WORCESTER   \n",
      "3       9004  SOUTHEAST ALTERNATIVE SCHOOL-MIDDLE SCHOOL    5   PLYMOUTH   \n",
      "4       9005                             DEVEREUX SCHOOL  123  WORCESTER   \n",
      "...      ...                                         ...  ...        ...   \n",
      "26978  20996                         MOST PRECIOUS BLOOD   33    WAUPACA   \n",
      "26979  20997                               STARR ACADEMY   29    WAUPACA   \n",
      "26980  20998                   ST JOHN'S LUTHERAN SCHOOL   24   WAUSHARA   \n",
      "26981  20999                     FAITH CHRISTIAN ACADEMY   13   WAUSHARA   \n",
      "26982  21000                           SHADY PINE SCHOOL   17   WAUSHARA   \n",
      "\n",
      "              4                                           5    6          7   \\\n",
      "0      41.758597               NEW ENGLAND CHRISTIAN ACADEMY  136    BRISTOL   \n",
      "1      41.718407                     SETON ACADEMY FOR GIRLS   57    BRISTOL   \n",
      "2      42.517271                              ST ANNA SCHOOL  157  WORCESTER   \n",
      "3      41.818210  SOUTHEAST ALTERNATIVE SCHOOL-MIDDLE SCHOOL    5   PLYMOUTH   \n",
      "4      42.383875                             DEVEREUX SCHOOL  123  WORCESTER   \n",
      "...          ...                                         ...  ...        ...   \n",
      "26978  44.386281                         MOST PRECIOUS BLOOD   33    WAUPACA   \n",
      "26979  44.308621                               STARR ACADEMY   29    WAUPACA   \n",
      "26980  44.202182                   ST JOHN'S LUTHERAN SCHOOL   24   WAUSHARA   \n",
      "26981  44.074503                     FAITH CHRISTIAN ACADEMY   13   WAUSHARA   \n",
      "26982  44.014975                           SHADY PINE SCHOOL   17   WAUSHARA   \n",
      "\n",
      "              8                                  9    10  \\\n",
      "0     -71.175801  Combined elementary and secondary  120   \n",
      "1     -71.147302                         Elementary   49   \n",
      "2     -71.751741                         Elementary  143   \n",
      "3     -71.083393                         Elementary    4   \n",
      "4     -71.968419  Combined elementary and secondary  107   \n",
      "...          ...                                ...  ...   \n",
      "26978 -88.739200                         Elementary   28   \n",
      "26979 -88.848294                          Secondary   21   \n",
      "26980 -88.886093                         Elementary   22   \n",
      "26981 -89.294984                         Elementary   11   \n",
      "26982 -89.377692                         Elementary   16   \n",
      "\n",
      "                                      11  \n",
      "0      Combined elementary and secondary  \n",
      "1                             Elementary  \n",
      "2                             Elementary  \n",
      "3                             Elementary  \n",
      "4      Combined elementary and secondary  \n",
      "...                                  ...  \n",
      "26978                         Elementary  \n",
      "26979                          Secondary  \n",
      "26980                         Elementary  \n",
      "26981                         Elementary  \n",
      "26982                         Elementary  \n",
      "\n",
      "[26983 rows x 12 columns]\n"
     ]
    }
   ],
   "source": [
    "merged_df=pd.concat([df,df2],axis=1,ignore_index=True)\n",
    "print(merged_df)\n"
   ]
  },
  {
   "cell_type": "code",
   "execution_count": 83,
   "id": "318d451e",
   "metadata": {},
   "outputs": [
    {
     "name": "stdout",
     "output_type": "stream",
     "text": [
      "         fid                                        name  population  \\\n",
      "0       9001               NEW ENGLAND CHRISTIAN ACADEMY         136   \n",
      "1       9002                     SETON ACADEMY FOR GIRLS          57   \n",
      "2       9003                              ST ANNA SCHOOL         157   \n",
      "3       9004  SOUTHEAST ALTERNATIVE SCHOOL-MIDDLE SCHOOL           5   \n",
      "4       9005                             DEVEREUX SCHOOL         123   \n",
      "...      ...                                         ...         ...   \n",
      "26978  20996                         MOST PRECIOUS BLOOD          33   \n",
      "26979  20997                               STARR ACADEMY          29   \n",
      "26980  20998                   ST JOHN'S LUTHERAN SCHOOL          24   \n",
      "26981  20999                     FAITH CHRISTIAN ACADEMY          13   \n",
      "26982  21000                           SHADY PINE SCHOOL          17   \n",
      "\n",
      "          county   latitude  longitute                              level  \\\n",
      "0        BRISTOL  41.758597 -71.175801  Combined elementary and secondary   \n",
      "1        BRISTOL  41.718407 -71.147302                         Elementary   \n",
      "2      WORCESTER  42.517271 -71.751741                         Elementary   \n",
      "3       PLYMOUTH  41.818210 -71.083393                         Elementary   \n",
      "4      WORCESTER  42.383875 -71.968419  Combined elementary and secondary   \n",
      "...          ...        ...        ...                                ...   \n",
      "26978    WAUPACA  44.386281 -88.739200                         Elementary   \n",
      "26979    WAUPACA  44.308621 -88.848294                          Secondary   \n",
      "26980   WAUSHARA  44.202182 -88.886093                         Elementary   \n",
      "26981   WAUSHARA  44.074503 -89.294984                         Elementary   \n",
      "26982   WAUSHARA  44.014975 -89.377692                         Elementary   \n",
      "\n",
      "       enrollment                            level.1  \n",
      "0             120  Combined elementary and secondary  \n",
      "1              49                         Elementary  \n",
      "2             143                         Elementary  \n",
      "3               4                         Elementary  \n",
      "4             107  Combined elementary and secondary  \n",
      "...           ...                                ...  \n",
      "26978          28                         Elementary  \n",
      "26979          21                          Secondary  \n",
      "26980          22                         Elementary  \n",
      "26981          11                         Elementary  \n",
      "26982          16                         Elementary  \n",
      "\n",
      "[26983 rows x 9 columns]\n"
     ]
    }
   ],
   "source": [
    "final_df=merged_df.loc[:,[0,1,2,3,4,8,9,10,11]]\n",
    "final_df.columns=['fid','name','population','county','latitude','longitute','level','enrollment','level.1']\n",
    "print(final_df)"
   ]
  },
  {
   "cell_type": "code",
   "execution_count": 84,
   "id": "5e7484cc",
   "metadata": {},
   "outputs": [
    {
     "name": "stdout",
     "output_type": "stream",
     "text": [
      "           county     city  score    fid  \\\n",
      "0         BRISTOL  SWANSEA     16   9001   \n",
      "1         BRISTOL  SWANSEA     16   9002   \n",
      "2         BRISTOL  SWANSEA     16   9006   \n",
      "3         BRISTOL  SWANSEA     16   9009   \n",
      "4         BRISTOL  SWANSEA     16   9013   \n",
      "...           ...      ...    ...    ...   \n",
      "4221328  WAUSHARA  WAUTOMA      1  20244   \n",
      "4221329  WAUSHARA  WAUTOMA      1  20252   \n",
      "4221330  WAUSHARA  WAUTOMA      1  20998   \n",
      "4221331  WAUSHARA  WAUTOMA      1  20999   \n",
      "4221332  WAUSHARA  WAUTOMA      1  21000   \n",
      "\n",
      "                                               name  population   latitude  \\\n",
      "0                     NEW ENGLAND CHRISTIAN ACADEMY         136  41.758597   \n",
      "1                           SETON ACADEMY FOR GIRLS          57  41.718407   \n",
      "2        NATIVITY PREPARATORY SCHOOL OF NEW BEDFORD          62  41.633263   \n",
      "3                         ST MARY'S CATHOLIC SCHOOL         233  42.035372   \n",
      "4                                             AMEGO          24  42.012844   \n",
      "...                                             ...         ...        ...   \n",
      "4221328                   OAKRIDGE MENNONITE SCHOOL          31  44.067848   \n",
      "4221329                      CHRIST LUTHERAN SCHOOL          30  44.210772   \n",
      "4221330                   ST JOHN'S LUTHERAN SCHOOL          24  44.202182   \n",
      "4221331                     FAITH CHRISTIAN ACADEMY          13  44.074503   \n",
      "4221332                           SHADY PINE SCHOOL          17  44.014975   \n",
      "\n",
      "         longitute                              level  enrollment  \\\n",
      "0       -71.175801  Combined elementary and secondary         120   \n",
      "1       -71.147302                         Elementary          49   \n",
      "2       -70.926852                         Elementary          54   \n",
      "3       -71.202492                         Elementary         219   \n",
      "4       -71.240718  Combined elementary and secondary          19   \n",
      "...            ...                                ...         ...   \n",
      "4221328 -89.141192                         Elementary          28   \n",
      "4221329 -88.972904                         Elementary          27   \n",
      "4221330 -88.886093                         Elementary          22   \n",
      "4221331 -89.294984                         Elementary          11   \n",
      "4221332 -89.377692                         Elementary          16   \n",
      "\n",
      "                                   level.1  \n",
      "0        Combined elementary and secondary  \n",
      "1                               Elementary  \n",
      "2                               Elementary  \n",
      "3                               Elementary  \n",
      "4        Combined elementary and secondary  \n",
      "...                                    ...  \n",
      "4221328                         Elementary  \n",
      "4221329                         Elementary  \n",
      "4221330                         Elementary  \n",
      "4221331                         Elementary  \n",
      "4221332                         Elementary  \n",
      "\n",
      "[4221333 rows x 11 columns]\n"
     ]
    }
   ],
   "source": [
    "df3=pd.read_csv('Lab2 D1C.csv')\n",
    "merged_df=pd.merge(df3,final_df,how='inner',on='county')\n",
    "print(merged_df)"
   ]
  },
  {
   "cell_type": "code",
   "execution_count": 85,
   "id": "db3d83db",
   "metadata": {},
   "outputs": [
    {
     "name": "stdout",
     "output_type": "stream",
     "text": [
      "Customized Data:\n",
      "      county    Size Direction    Timings School_Type  Rating\n",
      "0    BRISTOL   small     North  full-time      Public      75\n",
      "1   PLYMOUTH  medium     South  part-time     Private      82\n",
      "2  WORCESTER    high      East  full-time      Public      90\n",
      "3    SUFFOLK   small      West  part-time     Private      68\n",
      "4      ESSEX  medium     North  full-time      Public      88\n"
     ]
    }
   ],
   "source": [
    "#Question 2:Part A)\n",
    "# Customized dataset\n",
    "customizedData = pd.DataFrame({\n",
    "    \"county\": [\"BRISTOL\", \"PLYMOUTH\", \"WORCESTER\", \"SUFFOLK\", \"ESSEX\"],\n",
    "    \"Size\": [\"small\", \"medium\", \"high\", \"small\", \"medium\"],\n",
    "    \"Direction\": [\"North\", \"South\", \"East\", \"West\", \"North\"],\n",
    "    \"Timings\": [\"full-time\", \"part-time\", \"full-time\", \"part-time\", \"full-time\"],\n",
    "    \"School_Type\": [\"Public\", \"Private\", \"Public\", \"Private\", \"Public\"],\n",
    "    \"Rating\": [75, 82, 90, 68, 88]\n",
    "})\n",
    "\n",
    "print(\"Customized Data:\")\n",
    "print(customizedData)\n",
    "\n",
    "\n"
   ]
  },
  {
   "cell_type": "code",
   "execution_count": 86,
   "id": "6a794c20",
   "metadata": {},
   "outputs": [
    {
     "name": "stdout",
     "output_type": "stream",
     "text": [
      "Final_D1A_B shape: (53966, 9)\n",
      "Lab2_all (A+B merged with C) shape: (8442666, 11)\n",
      "ModifiedData (after adding customizedData) shape: (131618, 16)\n",
      "\n",
      "Preview of Modified Data:\n",
      "      fid                           name  population   county   latitude  \\\n",
      "0  9001.0  NEW ENGLAND CHRISTIAN ACADEMY         136  BRISTOL  41.758597   \n",
      "1  9001.0  NEW ENGLAND CHRISTIAN ACADEMY         136  BRISTOL  41.758597   \n",
      "2  9001.0  NEW ENGLAND CHRISTIAN ACADEMY         136  BRISTOL  41.758597   \n",
      "3  9001.0  NEW ENGLAND CHRISTIAN ACADEMY         136  BRISTOL  41.758597   \n",
      "4  9001.0  NEW ENGLAND CHRISTIAN ACADEMY         136  BRISTOL  41.758597   \n",
      "\n",
      "   longitude level  enrollment level.1         city  score   Size Direction  \\\n",
      "0        NaN   NaN         NaN     NaN      SWANSEA     16  small     North   \n",
      "1        NaN   NaN         NaN     NaN   FALL RIVER      8  small     North   \n",
      "2        NaN   NaN         NaN     NaN  NEW BEDFORD      8  small     North   \n",
      "3        NaN   NaN         NaN     NaN    MANSFIELD     14  small     North   \n",
      "4        NaN   NaN         NaN     NaN    ATTLEBORO      5  small     North   \n",
      "\n",
      "     Timings School_Type  Rating  \n",
      "0  full-time      Public      75  \n",
      "1  full-time      Public      75  \n",
      "2  full-time      Public      75  \n",
      "3  full-time      Public      75  \n",
      "4  full-time      Public      75  \n"
     ]
    }
   ],
   "source": [
    "#Question 2:part B)\n",
    "d1a = pd.read_csv(\"Lab2 D1A.csv\")\n",
    "d1b = pd.read_csv(\"Lab2 D1B.csv\")\n",
    "d1c = pd.read_csv(\"Lab2 D1C.csv\")\n",
    "\n",
    "final_df = pd.concat([d1a, d1b], ignore_index=True).drop_duplicates()\n",
    "\n",
    "lab2_all = pd.merge(final_df, d1c, how=\"inner\", on=\"county\")\n",
    "modifiedData = pd.merge(lab2_all, customizedData, how=\"inner\", on=\"county\")\n",
    "print(\"Final_D1A_B shape:\", final_df.shape)       \n",
    "print(\"Lab2_all (A+B merged with C) shape:\", lab2_all.shape) \n",
    "print(\"ModifiedData (after adding customizedData) shape:\", modifiedData.shape)\n",
    "\n",
    "print(\"\\nPreview of Modified Data:\")\n",
    "print(modifiedData.head())\n",
    "\n",
    "\n"
   ]
  },
  {
   "cell_type": "code",
   "execution_count": 87,
   "id": "60ae38e7",
   "metadata": {},
   "outputs": [
    {
     "name": "stdout",
     "output_type": "stream",
     "text": [
      "   ID  var3  var15  imp_ent_var16_ult1  imp_op_var39_comer_ult1  \\\n",
      "0   1     2     23                 0.0                      0.0   \n",
      "1   3     2     34                 0.0                      0.0   \n",
      "2   4     2     23                 0.0                      0.0   \n",
      "3   8     2     37                 0.0                    195.0   \n",
      "4  10     2     39                 0.0                      0.0   \n",
      "\n",
      "   imp_op_var39_comer_ult3  imp_op_var40_comer_ult1  imp_op_var40_comer_ult3  \\\n",
      "0                      0.0                      0.0                      0.0   \n",
      "1                      0.0                      0.0                      0.0   \n",
      "2                      0.0                      0.0                      0.0   \n",
      "3                    195.0                      0.0                      0.0   \n",
      "4                      0.0                      0.0                      0.0   \n",
      "\n",
      "   imp_op_var40_efect_ult1  imp_op_var40_efect_ult3  ...  \\\n",
      "0                      0.0                      0.0  ...   \n",
      "1                      0.0                      0.0  ...   \n",
      "2                      0.0                      0.0  ...   \n",
      "3                      0.0                      0.0  ...   \n",
      "4                      0.0                      0.0  ...   \n",
      "\n",
      "   saldo_medio_var33_hace2  saldo_medio_var33_hace3  saldo_medio_var33_ult1  \\\n",
      "0                      0.0                      0.0                     0.0   \n",
      "1                      0.0                      0.0                     0.0   \n",
      "2                      0.0                      0.0                     0.0   \n",
      "3                      0.0                      0.0                     0.0   \n",
      "4                      0.0                      0.0                     0.0   \n",
      "\n",
      "   saldo_medio_var33_ult3  saldo_medio_var44_hace2  saldo_medio_var44_hace3  \\\n",
      "0                     0.0                      0.0                      0.0   \n",
      "1                     0.0                      0.0                      0.0   \n",
      "2                     0.0                      0.0                      0.0   \n",
      "3                     0.0                      0.0                      0.0   \n",
      "4                     0.0                      0.0                      0.0   \n",
      "\n",
      "   saldo_medio_var44_ult1  saldo_medio_var44_ult3          var38  TARGET  \n",
      "0                     0.0                     0.0   39205.170000       0  \n",
      "1                     0.0                     0.0   49278.030000       0  \n",
      "2                     0.0                     0.0   67333.770000       0  \n",
      "3                     0.0                     0.0   64007.970000       0  \n",
      "4                     0.0                     0.0  117310.979016       0  \n",
      "\n",
      "[5 rows x 371 columns]\n"
     ]
    }
   ],
   "source": [
    "#Question 3:\n",
    "import pandas as pd\n",
    "\n",
    "# Use raw string (r\"...\") so Python doesn't misread the backslashes\n",
    "df = pd.read_csv(r\"C:\\Users\\LAPTOOL TECHNOLOGY\\Machine Learning\\train.csv\")\n",
    "\n",
    "print(df.head())  # just to confirm it's loaded correctly\n"
   ]
  },
  {
   "cell_type": "code",
   "execution_count": 88,
   "id": "09698a89",
   "metadata": {},
   "outputs": [
    {
     "data": {
      "text/html": [
       "<div>\n",
       "<style scoped>\n",
       "    .dataframe tbody tr th:only-of-type {\n",
       "        vertical-align: middle;\n",
       "    }\n",
       "\n",
       "    .dataframe tbody tr th {\n",
       "        vertical-align: top;\n",
       "    }\n",
       "\n",
       "    .dataframe thead th {\n",
       "        text-align: right;\n",
       "    }\n",
       "</style>\n",
       "<table border=\"1\" class=\"dataframe\">\n",
       "  <thead>\n",
       "    <tr style=\"text-align: right;\">\n",
       "      <th></th>\n",
       "      <th>var3</th>\n",
       "      <th>var38</th>\n",
       "      <th>var15</th>\n",
       "      <th>imp_op_var39_comer_ult1</th>\n",
       "    </tr>\n",
       "  </thead>\n",
       "  <tbody>\n",
       "    <tr>\n",
       "      <th>var3</th>\n",
       "      <td>1.000000</td>\n",
       "      <td>0.000071</td>\n",
       "      <td>-0.004452</td>\n",
       "      <td>0.005989</td>\n",
       "    </tr>\n",
       "    <tr>\n",
       "      <th>var38</th>\n",
       "      <td>0.000071</td>\n",
       "      <td>1.000000</td>\n",
       "      <td>0.006497</td>\n",
       "      <td>0.012546</td>\n",
       "    </tr>\n",
       "    <tr>\n",
       "      <th>var15</th>\n",
       "      <td>-0.004452</td>\n",
       "      <td>0.006497</td>\n",
       "      <td>1.000000</td>\n",
       "      <td>0.094762</td>\n",
       "    </tr>\n",
       "    <tr>\n",
       "      <th>imp_op_var39_comer_ult1</th>\n",
       "      <td>0.005989</td>\n",
       "      <td>0.012546</td>\n",
       "      <td>0.094762</td>\n",
       "      <td>1.000000</td>\n",
       "    </tr>\n",
       "  </tbody>\n",
       "</table>\n",
       "</div>"
      ],
      "text/plain": [
       "                             var3     var38     var15  imp_op_var39_comer_ult1\n",
       "var3                     1.000000  0.000071 -0.004452                 0.005989\n",
       "var38                    0.000071  1.000000  0.006497                 0.012546\n",
       "var15                   -0.004452  0.006497  1.000000                 0.094762\n",
       "imp_op_var39_comer_ult1  0.005989  0.012546  0.094762                 1.000000"
      ]
     },
     "execution_count": 88,
     "metadata": {},
     "output_type": "execute_result"
    }
   ],
   "source": [
    "var=df.loc[:,['var3','var38','var15','imp_op_var39_comer_ult1']]\n",
    "var.corr()"
   ]
  },
  {
   "cell_type": "code",
   "execution_count": 89,
   "id": "a5d7dedc",
   "metadata": {},
   "outputs": [
    {
     "name": "stdout",
     "output_type": "stream",
     "text": [
      "7.084161239993955e-05\n",
      "-0.004451771295409944\n",
      "0.00598903116857473\n",
      "0.006496590103000598\n",
      "0.012546012983893984\n",
      "0.09476241709977415\n"
     ]
    }
   ],
   "source": [
    "print(var['var3'].corr(var['var38']))\n",
    "print(var['var3'].corr(var['var15']))\n",
    "print(var['var3'].corr(var['imp_op_var39_comer_ult1']))\n",
    "print(var['var38'].corr(var['var15']))\n",
    "print(var['var38'].corr(var['imp_op_var39_comer_ult1']))\n",
    "print(var['var15'].corr(var['imp_op_var39_comer_ult1']))"
   ]
  },
  {
   "cell_type": "markdown",
   "id": "e6141dfa",
   "metadata": {},
   "source": [
    "The data does not show any strong linear relationship between the variables. Most correlation coefficients are near zero, which suggests that changes in one variable do not linearly explain changes in another. This means the dataset is not linear with respect to these variables."
   ]
  },
  {
   "cell_type": "code",
   "execution_count": 90,
   "id": "232c0977",
   "metadata": {},
   "outputs": [
    {
     "data": {
      "text/plain": [
       "np.int64(0)"
      ]
     },
     "execution_count": 90,
     "metadata": {},
     "output_type": "execute_result"
    }
   ],
   "source": [
    "df.isnull().sum().sum()"
   ]
  },
  {
   "cell_type": "code",
   "execution_count": 91,
   "id": "c75b1a15",
   "metadata": {},
   "outputs": [
    {
     "data": {
      "image/png": "[encoded data removed]",
      "text/plain": [
       "<Figure size 640x480 with 1 Axes>"
      ]
     },
     "metadata": {},
     "output_type": "display_data"
    },
    {
     "name": "stdout",
     "output_type": "stream",
     "text": [
      "              var15  imp_op_var39_comer_ult1\n",
      "count  76020.000000             76020.000000\n",
      "mean      33.212865                72.363067\n",
      "std       12.956486               339.315831\n",
      "min        5.000000                 0.000000\n",
      "25%       23.000000                 0.000000\n",
      "50%       28.000000                 0.000000\n",
      "75%       40.000000                 0.000000\n",
      "max      105.000000             12888.030000\n"
     ]
    },
    {
     "data": {
      "image/png": "[encoded data removed]",
      "text/plain": [
       "<Figure size 640x480 with 1 Axes>"
      ]
     },
     "metadata": {},
     "output_type": "display_data"
    },
    {
     "data": {
      "image/png": "[encoded data removed]",
      "text/plain": [
       "<Figure size 640x480 with 2 Axes>"
      ]
     },
     "metadata": {},
     "output_type": "display_data"
    },
    {
     "data": {
      "image/png": "[encoded data removed]",
      "text/plain": [
       "<Figure size 640x480 with 1 Axes>"
      ]
     },
     "metadata": {},
     "output_type": "display_data"
    },
    {
     "data": {
      "image/png": "[encoded data removed]",
      "text/plain": [
       "<Figure size 640x480 with 1 Axes>"
      ]
     },
     "metadata": {},
     "output_type": "display_data"
    }
   ],
   "source": [
    "import matplotlib.pyplot as plt\n",
    "import seaborn as sns\n",
    "import pandas as pd\n",
    "df.head()\n",
    "# 1. Relation between age (var15) and spending (imp_op_var39_comer_ult1)\n",
    "sns.scatterplot(data=df, x='var15', y='imp_op_var39_comer_ult1')\n",
    "plt.title(\"Age vs Spending\")\n",
    "plt.show()\n",
    "print(df[['var15','imp_op_var39_comer_ult1']].describe())\n",
    "\n",
    "# 2. Distribution of income (var38) by target category\n",
    "sns.boxplot(data=df, x='TARGET', y='var38')\n",
    "plt.title(\"Income Distribution by Target\")\n",
    "plt.show()\n",
    "\n",
    "# 3. Correlation heatmap among var3, var15, var38, imp_op_var39_comer_ult1\n",
    "corr = df[['var3','var15','var38','imp_op_var39_comer_ult1']].corr()\n",
    "sns.heatmap(corr, annot=True, cmap='coolwarm')\n",
    "plt.title(\"Correlation Heatmap\")\n",
    "plt.show()\n",
    "\n",
    "# 4. Compare age groups vs TARGET\n",
    "df['AgeGroup'] = pd.cut(df['var15'], bins=[0,25,40,60,100], \n",
    "                        labels=['Young','Adult','Middle-aged','Senior'])\n",
    "sns.countplot(data=df, x='AgeGroup', hue='TARGET')\n",
    "plt.title(\"Age Group vs Target\")\n",
    "plt.show()\n",
    "\n",
    "# 5. Income vs Age (bivariate density)\n",
    "sns.kdeplot(data=df, x='var15', y='var38', fill=True, cmap=\"mako\")\n",
    "plt.title(\"Age vs Income Density\")\n",
    "plt.show()\n"
   ]
  },
  {
   "cell_type": "code",
   "execution_count": 92,
   "id": "0f983a77",
   "metadata": {},
   "outputs": [
    {
     "name": "stdout",
     "output_type": "stream",
     "text": [
      "Unique target categories: [0 1]\n",
      "Value counts:\n",
      " TARGET\n",
      "0    0.960431\n",
      "1    0.039569\n",
      "Name: proportion, dtype: float64\n"
     ]
    }
   ],
   "source": [
    "print(\"Unique target categories:\", df['TARGET'].unique())\n",
    "print(\"Value counts:\\n\", df['TARGET'].value_counts(normalize=True))\n"
   ]
  },
  {
   "cell_type": "markdown",
   "id": "31435c69",
   "metadata": {},
   "source": [
    "No missing value"
   ]
  },
  {
   "cell_type": "code",
   "execution_count": 93,
   "id": "c205ff17",
   "metadata": {},
   "outputs": [
    {
     "name": "stdout",
     "output_type": "stream",
     "text": [
      "Balanced counts:\n",
      " TARGET\n",
      "0    73012\n",
      "1    73012\n",
      "Name: count, dtype: int64\n"
     ]
    }
   ],
   "source": [
    "from sklearn.utils import resample\n",
    "\n",
    "# Separate majority and minority classes\n",
    "majority = df[df['TARGET']==0]\n",
    "minority = df[df['TARGET']==1]\n",
    "\n",
    "# Upsample minority\n",
    "minority_upsampled = resample(minority, \n",
    "                              replace=True,     # sample with replacement\n",
    "                              n_samples=len(majority), \n",
    "                              random_state=42)\n",
    "\n",
    "# Combine back\n",
    "df_balanced = pd.concat([majority, minority_upsampled])\n",
    "print(\"Balanced counts:\\n\", df_balanced['TARGET'].value_counts())\n"
   ]
  },
  {
   "cell_type": "code",
   "execution_count": 98,
   "id": "84ee19a4",
   "metadata": {},
   "outputs": [
    {
     "name": "stdout",
     "output_type": "stream",
     "text": [
      "Features selected by Pearson: ['TARGET']\n",
      "Total features before: 372\n",
      "Total features after: 1\n"
     ]
    }
   ],
   "source": [
    "# Keep only numeric columns\n",
    "numeric_df = df_balanced.select_dtypes(include=['int64','float64'])\n",
    "\n",
    "# Compute correlation matrix\n",
    "corr_matrix = numeric_df.corr().abs()\n",
    "\n",
    "# Correlation with target\n",
    "target_corr = corr_matrix['TARGET']\n",
    "\n",
    "# Select features with |correlation| >= 0.65\n",
    "selected_features = target_corr[target_corr >= 0.65].index.tolist()\n",
    "\n",
    "print(\"Features selected by Pearson:\", selected_features)\n",
    "print(\"Total features before:\", df_balanced.shape[1])\n",
    "print(\"Total features after:\", len(selected_features))\n"
   ]
  },
  {
   "cell_type": "code",
   "execution_count": 97,
   "id": "cdf5759e",
   "metadata": {},
   "outputs": [
    {
     "name": "stdout",
     "output_type": "stream",
     "text": [
      "Selected features using RFE: ['var15', 'ind_var1_0', 'ind_var17', 'num_var20_0', 'num_var40_0', 'num_var42', 'num_med_var45_ult3', 'num_meses_var13_largo_ult3', 'num_meses_var17_ult3', 'num_var45_ult3']\n"
     ]
    }
   ],
   "source": [
    "from sklearn.feature_selection import RFE\n",
    "from sklearn.linear_model import LogisticRegression\n",
    "from sklearn.preprocessing import StandardScaler\n",
    "\n",
    "# Define X and y\n",
    "X = df_balanced.drop(columns=['TARGET'])\n",
    "y = df_balanced['TARGET']\n",
    "\n",
    "# Keep only numeric features (categorical need encoding before use)\n",
    "X_numeric = X.select_dtypes(include=['int64','float64'])\n",
    "\n",
    "# Scale numeric features for stability\n",
    "scaler = StandardScaler()\n",
    "X_scaled = scaler.fit_transform(X_numeric)\n",
    "\n",
    "# Logistic Regression model\n",
    "model = LogisticRegression(max_iter=1000, solver='lbfgs')\n",
    "\n",
    "# Apply RFE (select top 10 features)\n",
    "rfe = RFE(model, n_features_to_select=10)\n",
    "fit = rfe.fit(X_scaled, y)\n",
    "\n",
    "selected_rfe = X_numeric.columns[fit.support_].tolist()\n",
    "print(\"Selected features using RFE:\", selected_rfe)\n"
   ]
  }
 ],
 "metadata": {
  "kernelspec": {
   "display_name": "Python 3",
   "language": "python",
   "name": "python3"
  },
  "language_info": {
   "codemirror_mode": {
    "name": "ipython",
    "version": 3
   },
   "file_extension": ".py",
   "mimetype": "text/x-python",
   "name": "python",
   "nbconvert_exporter": "python",
   "pygments_lexer": "ipython3",
   "version": "3.13.3"
  }
 },
 "nbformat": 4,
 "nbformat_minor": 5
}
